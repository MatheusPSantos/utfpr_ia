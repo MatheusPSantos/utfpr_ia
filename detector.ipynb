{
 "cells": [
  {
   "cell_type": "markdown",
   "source": [
    "Importações"
   ],
   "metadata": {}
  },
  {
   "cell_type": "code",
   "execution_count": null,
   "source": [
    "import tensorflow\r\n",
    "from tensorflow import keras\r\n",
    "import imutils\r\n",
    "from imutils import video\r\n",
    "import cv2\r\n",
    "import time\r\n",
    "import numpy as np"
   ],
   "outputs": [],
   "metadata": {}
  },
  {
   "cell_type": "markdown",
   "source": [
    "Criando função que detecta a máscara"
   ],
   "metadata": {}
  },
  {
   "cell_type": "code",
   "execution_count": null,
   "source": [
    "def detector(frame, face, mask):\r\n",
    "    (altura, largura) = frame.shape[:2]\r\n",
    "    blob = cv2.dnn.blobFromImage(frame, 1.0, (224,224), (104.0, 177.0, 123.0))\r\n",
    "\r\n",
    "    face.setInput(blob)\r\n",
    "    deteccoes = face.forward()\r\n",
    "    print(deteccoes.shape)\r\n",
    "\r\n",
    "    faces = []\r\n",
    "    locs = []\r\n",
    "    preds = []\r\n",
    "\r\n",
    "    for indice in range(0, deteccoes.shape[2]):\r\n",
    "        confianca = deteccoes[0, 0, indice, 2]\r\n",
    "        if confianca > 0.5:\r\n",
    "            box = deteccoes[0, 0, indice, 3:7] * np.array([largura, altura, largura, altura])\r\n",
    "            (startX, startY, endX, endY) = box.astype(\"int\")\r\n",
    "\r\n",
    "\r\n",
    "            (startX, startX) = (max(0, startX), max(0, startY))\r\n",
    "            (endX, endY) = (min(largura - 1, endX), min(altura - 1, endY))\r\n",
    "\r\n",
    "            face = frame[startX:endY, startY:endX]\r\n",
    "            face = cv2.cvtColor(face, cv2.COLOR_BGR2RGB)\r\n",
    "            face = cv2.resize(face, (224, 224))\r\n",
    "            face = keras.preprocessing.image.img_to_array(face)\r\n",
    "            face = keras.applications.mobilenet_v2.preprocess_input(face)\r\n",
    "\r\n",
    "            faces.append(face)\r\n",
    "            locs.append((startX, startY, endX, endY))\r\n",
    "\r\n",
    "    if len(faces) > 0:\r\n",
    "        faces = np.array(faces, dtype=\"float32\")\r\n",
    "        preds = mask.predict(faces, batch_size=32)\r\n",
    "    \r\n",
    "    return (locs, preds)"
   ],
   "outputs": [],
   "metadata": {}
  },
  {
   "cell_type": "markdown",
   "source": [
    "Carregando o modelo de detecção de rosto"
   ],
   "metadata": {}
  },
  {
   "cell_type": "code",
   "execution_count": null,
   "source": [
    "prototxtPath = r\"deploy.prototxt\"\r\n",
    "weightsPath = r\"res10_300x300_ssd_iter_140000.caffemodel\"\r\n",
    "faceNet = cv2.dnn.readNet(prototxtPath, weightsPath)"
   ],
   "outputs": [],
   "metadata": {}
  },
  {
   "cell_type": "markdown",
   "source": [
    "Carregando o modelo que foi criado para detectar máscara"
   ],
   "metadata": {}
  },
  {
   "cell_type": "code",
   "execution_count": null,
   "source": [
    "maskNet = keras.models.load_model(\"modelo_reconhecimento_mascara.h5\")"
   ],
   "outputs": [],
   "metadata": {}
  },
  {
   "cell_type": "markdown",
   "source": [
    "Inicializando o vídeo"
   ],
   "metadata": {}
  },
  {
   "cell_type": "code",
   "execution_count": null,
   "source": [
    "vs = video.VideoStream(src=0).start()"
   ],
   "outputs": [],
   "metadata": {}
  },
  {
   "cell_type": "markdown",
   "source": [
    "Loop dos frames do vídeo"
   ],
   "metadata": {}
  },
  {
   "cell_type": "code",
   "execution_count": null,
   "source": [
    "while True:\r\n",
    "\tframe = vs.read()\r\n",
    "\tframe = imutils.resize(frame, width=400)\r\n",
    "\t\r\n",
    "\t(locs, preds) = detector(frame, faceNet, maskNet)\r\n",
    "\r\n",
    "\tfor (box, pred) in zip(locs, preds):\r\n",
    "\t\t(startX, startY, endX, endY) = box\r\n",
    "\t\t(mask, withoutMask) = pred\r\n",
    "\r\n",
    "\t\tlabel = \"Mask\" if mask > withoutMask else \"No Mask\"\r\n",
    "\t\tcolor = (0, 255, 0) if label == \"Mask\" else (0, 0, 255)\r\n",
    "\r\n",
    "\t\tlabel = \"{}: {:.2f}%\".format(label, max(mask, withoutMask) * 100)\r\n",
    "\r\n",
    "\t\tcv2.putText(frame, label, (startX, startY - 10),\r\n",
    "\t\t\tcv2.FONT_HERSHEY_SIMPLEX, 0.45, color, 2)\r\n",
    "\t\tcv2.rectangle(frame, (startX, startY), (endX, endY), color, 2)\r\n",
    "\r\n",
    "\tcv2.imshow(\"Frame\", frame)\r\n",
    "\tkey = cv2.waitKey(1) & 0xFF\r\n",
    "\r\n",
    "\t# intrrupção com o 'q'\r\n",
    "\tif key == ord(\"q\"):\r\n",
    "\t\tbreak"
   ],
   "outputs": [],
   "metadata": {}
  },
  {
   "cell_type": "markdown",
   "source": [
    "Limpando e parando o stream do vídeo"
   ],
   "metadata": {}
  },
  {
   "cell_type": "code",
   "execution_count": null,
   "source": [
    "cv2.destroyAllWindows()\r\n",
    "vs.stop()"
   ],
   "outputs": [],
   "metadata": {}
  }
 ],
 "metadata": {
  "orig_nbformat": 4,
  "language_info": {
   "name": "python",
   "version": "3.8.9",
   "mimetype": "text/x-python",
   "codemirror_mode": {
    "name": "ipython",
    "version": 3
   },
   "pygments_lexer": "ipython3",
   "nbconvert_exporter": "python",
   "file_extension": ".py"
  },
  "kernelspec": {
   "name": "python3",
   "display_name": "Python 3.8.9 64-bit"
  },
  "interpreter": {
   "hash": "72b7f2dd0b0cea190b00b981a3dfce715d3566325ecfddaf5b7dfafd90053c30"
  }
 },
 "nbformat": 4,
 "nbformat_minor": 2
}