{
 "cells": [
  {
   "cell_type": "code",
   "execution_count": 1,
   "source": [
    "# Importações\r\n",
    "\r\n",
    "import tensorflow\r\n",
    "from tensorflow import keras\r\n",
    "import matplotlib.pyplot as plt\r\n",
    "import os\r\n",
    "import PIL\r\n",
    "from sklearn import preprocessing, model_selection\r\n",
    "import numpy as np"
   ],
   "outputs": [],
   "metadata": {}
  },
  {
   "cell_type": "markdown",
   "source": [
    "Adicionando as configurações de diretório e outros artefatos para o modelo"
   ],
   "metadata": {}
  },
  {
   "cell_type": "code",
   "execution_count": 2,
   "source": [
    "# diretorio da localização das imagens de treino\r\n",
    "DIR = r\"C:\\Users\\perei\\Desktop\\universidade\\inteligencia artificial\\utfpr_ia\"\r\n",
    "CATEGORIAS = ['mask', 'no_mask']\r\n",
    "\r\n",
    "# iniciando os arrays de Data e labels vazios\r\n",
    "data = []\r\n",
    "labels = []"
   ],
   "outputs": [],
   "metadata": {}
  },
  {
   "cell_type": "markdown",
   "source": [
    "Adicionando as imagens de treino"
   ],
   "metadata": {}
  },
  {
   "cell_type": "code",
   "execution_count": 3,
   "source": [
    "for categoria in CATEGORIAS:\r\n",
    "    path = os.path.join(DIR, categoria)\r\n",
    "    for imagem in os.listdir(path):\r\n",
    "        image_path = os.path.join(path, imagem)\r\n",
    "        image = keras.preprocessing.image.load_img(image_path, target_size=(224,224))\r\n",
    "        image = keras.preprocessing.image.img_to_array(image)\r\n",
    "        image = keras.applications.mobilenet_v2.preprocess_input(image)\r\n",
    "\r\n",
    "        data.append(image)\r\n",
    "        labels.append(categoria)"
   ],
   "outputs": [
    {
     "output_type": "stream",
     "name": "stderr",
     "text": [
      "C:\\Users\\perei\\AppData\\Local\\Programs\\Python\\Python38\\lib\\site-packages\\PIL\\Image.py:973: UserWarning: Palette images with Transparency expressed in bytes should be converted to RGBA images\n",
      "  warnings.warn(\n"
     ]
    }
   ],
   "metadata": {}
  },
  {
   "cell_type": "markdown",
   "source": [
    "Transformando valores categóricos em vetores binários esparso"
   ],
   "metadata": {}
  },
  {
   "cell_type": "code",
   "execution_count": 4,
   "source": [
    "bin_labels = preprocessing.LabelBinarizer()\r\n",
    "labels = bin_labels.fit_transform(labels)\r\n",
    "labels = keras.utils.to_categorical(labels)"
   ],
   "outputs": [],
   "metadata": {}
  },
  {
   "cell_type": "markdown",
   "source": [
    "Convertendo os arrays de data e labels para o formato float32 com o numpy"
   ],
   "metadata": {}
  },
  {
   "cell_type": "code",
   "execution_count": 5,
   "source": [
    "data = np.array(data, dtype=\"float32\")\r\n",
    "labels = np.array(labels)"
   ],
   "outputs": [],
   "metadata": {}
  },
  {
   "cell_type": "markdown",
   "source": [
    "Splitando o array em subset de testes e trainamento"
   ],
   "metadata": {}
  },
  {
   "cell_type": "code",
   "execution_count": 6,
   "source": [
    "(trainX, testX, trainY, testY) = model_selection.train_test_split(data, labels, test_size=0.20, stratify=labels, random_state=42)"
   ],
   "outputs": [],
   "metadata": {}
  },
  {
   "cell_type": "markdown",
   "source": [
    "Gerador de imagem de treinamento"
   ],
   "metadata": {}
  },
  {
   "cell_type": "code",
   "execution_count": 7,
   "source": [
    "aumento = keras.preprocessing.image.ImageDataGenerator(\r\n",
    "    rotation_range=20, zoom_range=0.15, width_shift_range=0.2, height_shift_range=0.2, shear_range=0.15, horizontal_flip=True, fill_mode=\"nearest\"\r\n",
    ")"
   ],
   "outputs": [],
   "metadata": {}
  },
  {
   "cell_type": "markdown",
   "source": [
    "Carregamento da rede MobileNetV2"
   ],
   "metadata": {}
  },
  {
   "cell_type": "code",
   "execution_count": 8,
   "source": [
    "modeloBase = keras.applications.MobileNetV2(\r\n",
    "    weights=\"imagenet\", include_top=False, input_tensor=keras.layers.Input(shape=(244, 244, 3))\r\n",
    ")\r\n",
    "\r\n",
    "cabecalhoModelo = modeloBase.output\r\n",
    "cabecalhoModelo = keras.layers.AveragePooling2D(pool_size=(7,7))(cabecalhoModelo) # pesquisar sobre o AvaregePooling\r\n",
    "cabecalhoModelo = keras.layers.Flatten(name=\"flatten\")(cabecalhoModelo)\r\n",
    "cabecalhoModelo = keras.layers.Dense(128, activation=\"relu\")(cabecalhoModelo)\r\n",
    "cabecalhoModelo = keras.layers.Dropout(0.5)(cabecalhoModelo)\r\n",
    "cabecalhoModelo = keras.layers.Dense(2, activation=\"softmax\")(cabecalhoModelo)"
   ],
   "outputs": [
    {
     "output_type": "stream",
     "name": "stdout",
     "text": [
      "WARNING:tensorflow:`input_shape` is undefined or non-square, or `rows` is not in [96, 128, 160, 192, 224]. Weights for input shape (224, 224) will be loaded as the default.\n"
     ]
    }
   ],
   "metadata": {}
  },
  {
   "cell_type": "markdown",
   "source": [
    "Criando o modelo de treinamento"
   ],
   "metadata": {}
  },
  {
   "cell_type": "code",
   "execution_count": 9,
   "source": [
    "modelo = keras.Model(inputs=modeloBase.input, outputs=cabecalhoModelo)"
   ],
   "outputs": [],
   "metadata": {}
  },
  {
   "cell_type": "markdown",
   "source": [
    "Fazendo um loop em cima das camadas do modelo base"
   ],
   "metadata": {}
  },
  {
   "cell_type": "code",
   "execution_count": 10,
   "source": [
    "for camada in modeloBase.layers:\r\n",
    "    camada.trainable = False"
   ],
   "outputs": [],
   "metadata": {}
  },
  {
   "cell_type": "markdown",
   "source": [
    "Compilando o nosso modelo"
   ],
   "metadata": {}
  },
  {
   "cell_type": "code",
   "execution_count": null,
   "source": [
    "# definindo o otimizador\r\n",
    "otimizador = keras.optimizers.Adam(lr=1e-4, decay=1e-4/20)\r\n",
    "\r\n",
    "modelo.compile(loss=\"binary_crossentropy\", optimizer=otimizador, metrics=['accuracy'])"
   ],
   "outputs": [],
   "metadata": {}
  },
  {
   "cell_type": "markdown",
   "source": [
    "Treinando o cabeçalho do modelo"
   ],
   "metadata": {}
  }
 ],
 "metadata": {
  "orig_nbformat": 4,
  "language_info": {
   "name": "python",
   "version": "3.8.9",
   "mimetype": "text/x-python",
   "codemirror_mode": {
    "name": "ipython",
    "version": 3
   },
   "pygments_lexer": "ipython3",
   "nbconvert_exporter": "python",
   "file_extension": ".py"
  },
  "kernelspec": {
   "name": "python3",
   "display_name": "Python 3.8.9 64-bit"
  },
  "interpreter": {
   "hash": "72b7f2dd0b0cea190b00b981a3dfce715d3566325ecfddaf5b7dfafd90053c30"
  }
 },
 "nbformat": 4,
 "nbformat_minor": 2
}