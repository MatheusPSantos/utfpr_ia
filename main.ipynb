{
 "cells": [
  {
   "cell_type": "code",
   "execution_count": 22,
   "source": [
    "# Importações\r\n",
    "\r\n",
    "import tensorflow\r\n",
    "from tensorflow import keras\r\n",
    "import matplotlib.pyplot as plt\r\n",
    "import os\r\n",
    "import PIL\r\n",
    "from sklearn import preprocessing, model_selection, metrics\r\n",
    "import numpy as np"
   ],
   "outputs": [],
   "metadata": {}
  },
  {
   "cell_type": "markdown",
   "source": [
    "Adicionando as configurações de diretório e outros artefatos para o modelo"
   ],
   "metadata": {}
  },
  {
   "cell_type": "code",
   "execution_count": 24,
   "source": [
    "# diretorio da localização das imagens de treino\r\n",
    "DIR = r\"C:\\Users\\perei\\Desktop\\universidade\\inteligencia artificial\\utfpr_ia\"\r\n",
    "CATEGORIAS = ['mask', 'no_mask']\r\n",
    "\r\n",
    "# iniciando os arrays de Data e labels vazios\r\n",
    "data = []\r\n",
    "labels = []"
   ],
   "outputs": [],
   "metadata": {}
  },
  {
   "cell_type": "markdown",
   "source": [
    "Adicionando as imagens de treino"
   ],
   "metadata": {}
  },
  {
   "cell_type": "code",
   "execution_count": 25,
   "source": [
    "for categoria in CATEGORIAS:\r\n",
    "    path = os.path.join(DIR, categoria)\r\n",
    "    for imagem in os.listdir(path):\r\n",
    "        image_path = os.path.join(path, imagem)\r\n",
    "        image = keras.preprocessing.image.load_img(image_path, target_size=(224,224))\r\n",
    "        image = keras.preprocessing.image.img_to_array(image)\r\n",
    "        image = keras.applications.mobilenet_v2.preprocess_input(image)\r\n",
    "\r\n",
    "        data.append(image)\r\n",
    "        labels.append(categoria)"
   ],
   "outputs": [
    {
     "output_type": "stream",
     "name": "stderr",
     "text": [
      "C:\\Users\\perei\\AppData\\Local\\Programs\\Python\\Python38\\lib\\site-packages\\PIL\\Image.py:973: UserWarning: Palette images with Transparency expressed in bytes should be converted to RGBA images\n",
      "  warnings.warn(\n"
     ]
    }
   ],
   "metadata": {}
  },
  {
   "cell_type": "markdown",
   "source": [
    "Transformando valores categóricos em vetores binários esparso"
   ],
   "metadata": {}
  },
  {
   "cell_type": "code",
   "execution_count": 26,
   "source": [
    "bin_labels = preprocessing.LabelBinarizer()\r\n",
    "labels = bin_labels.fit_transform(labels)\r\n",
    "labels = keras.utils.to_categorical(labels)"
   ],
   "outputs": [],
   "metadata": {}
  },
  {
   "cell_type": "markdown",
   "source": [
    "Convertendo os arrays de data e labels para o formato float32 com o numpy"
   ],
   "metadata": {}
  },
  {
   "cell_type": "code",
   "execution_count": 5,
   "source": [
    "data = np.array(data, dtype=\"float32\")\r\n",
    "labels = np.array(labels)"
   ],
   "outputs": [],
   "metadata": {}
  },
  {
   "cell_type": "markdown",
   "source": [
    "Splitando o array em subset de testes e trainamento"
   ],
   "metadata": {}
  },
  {
   "cell_type": "code",
   "execution_count": 6,
   "source": [
    "(trainX, testX, trainY, testY) = model_selection.train_test_split(data, labels, test_size=0.20, stratify=labels, random_state=42)"
   ],
   "outputs": [],
   "metadata": {}
  },
  {
   "cell_type": "markdown",
   "source": [
    "Gerador de imagem de treinamento"
   ],
   "metadata": {}
  },
  {
   "cell_type": "code",
   "execution_count": 7,
   "source": [
    "aumento = keras.preprocessing.image.ImageDataGenerator(\r\n",
    "    rotation_range=20, zoom_range=0.15,\r\n",
    "    width_shift_range=0.2, height_shift_range=0.2,\r\n",
    "    shear_range=0.15, horizontal_flip=True,\r\n",
    "    fill_mode=\"nearest\"\r\n",
    ")"
   ],
   "outputs": [],
   "metadata": {}
  },
  {
   "cell_type": "markdown",
   "source": [
    "Carregamento da rede MobileNetV2"
   ],
   "metadata": {}
  },
  {
   "cell_type": "code",
   "execution_count": 8,
   "source": [
    "modeloBase = keras.applications.MobileNetV2(\r\n",
    "    weights=\"imagenet\", include_top=False, input_tensor=keras.layers.Input(shape=(224, 224, 3))\r\n",
    ")\r\n",
    "\r\n",
    "cabecalhoModelo = modeloBase.output\r\n",
    "cabecalhoModelo = keras.layers.AveragePooling2D(pool_size=(7,7))(cabecalhoModelo)\r\n",
    "cabecalhoModelo = keras.layers.Flatten(name=\"flatten\")(cabecalhoModelo)\r\n",
    "cabecalhoModelo = keras.layers.Dense(128, activation=\"relu\")(cabecalhoModelo)\r\n",
    "cabecalhoModelo = keras.layers.Dropout(0.5)(cabecalhoModelo)\r\n",
    "cabecalhoModelo = keras.layers.Dense(2, activation=\"softmax\")(cabecalhoModelo)"
   ],
   "outputs": [
    {
     "output_type": "stream",
     "name": "stdout",
     "text": [
      "WARNING:tensorflow:`input_shape` is undefined or non-square, or `rows` is not in [96, 128, 160, 192, 224]. Weights for input shape (224, 224) will be loaded as the default.\n"
     ]
    }
   ],
   "metadata": {}
  },
  {
   "cell_type": "markdown",
   "source": [
    "Criando o modelo de treinamento"
   ],
   "metadata": {}
  },
  {
   "cell_type": "code",
   "execution_count": 9,
   "source": [
    "modelo = keras.Model(inputs=modeloBase.input, outputs=cabecalhoModelo)"
   ],
   "outputs": [],
   "metadata": {}
  },
  {
   "cell_type": "markdown",
   "source": [
    "Fazendo um loop em cima das camadas do modelo base"
   ],
   "metadata": {}
  },
  {
   "cell_type": "code",
   "execution_count": 10,
   "source": [
    "for camada in modeloBase.layers:\r\n",
    "    camada.trainable = False"
   ],
   "outputs": [],
   "metadata": {}
  },
  {
   "cell_type": "markdown",
   "source": [
    "Compilando o nosso modelo"
   ],
   "metadata": {}
  },
  {
   "cell_type": "code",
   "execution_count": 11,
   "source": [
    "# algumas definições\r\n",
    "EPOCAS = 20\r\n",
    "\r\n",
    "# definindo o otimizador\r\n",
    "otimizador = keras.optimizers.Adam(learning_rate=1e-4, decay=1e-4/EPOCAS)\r\n",
    "\r\n",
    "modelo.compile(loss=\"binary_crossentropy\", optimizer=otimizador, metrics=['accuracy'])"
   ],
   "outputs": [],
   "metadata": {}
  },
  {
   "cell_type": "markdown",
   "source": [
    "Treinando o cabeçalho da rede"
   ],
   "metadata": {}
  },
  {
   "cell_type": "code",
   "execution_count": 12,
   "source": [
    "head = modelo.fit(\r\n",
    "    aumento.flow(trainX, trainY, batch_size=32),\r\n",
    "    steps_per_epoch=len(trainX) // 32,\r\n",
    "    validation_data=(testX, testY),\r\n",
    "    validation_steps=len(testX) // 32,\r\n",
    "    epochs=EPOCAS\r\n",
    ")"
   ],
   "outputs": [
    {
     "output_type": "stream",
     "name": "stdout",
     "text": [
      "Epoch 1/20\n",
      "95/95 [==============================] - 159s 2s/step - loss: 0.4268 - accuracy: 0.8375 - val_loss: 0.1540 - val_accuracy: 0.9844\n",
      "Epoch 2/20\n",
      "95/95 [==============================] - 135s 1s/step - loss: 0.1560 - accuracy: 0.9611 - val_loss: 0.0805 - val_accuracy: 0.9870\n",
      "Epoch 3/20\n",
      "95/95 [==============================] - 138s 1s/step - loss: 0.0991 - accuracy: 0.9789 - val_loss: 0.0594 - val_accuracy: 0.9896\n",
      "Epoch 4/20\n",
      "95/95 [==============================] - 141s 1s/step - loss: 0.0873 - accuracy: 0.9769 - val_loss: 0.0484 - val_accuracy: 0.9922\n",
      "Epoch 5/20\n",
      "95/95 [==============================] - 139s 1s/step - loss: 0.0754 - accuracy: 0.9782 - val_loss: 0.0454 - val_accuracy: 0.9896\n",
      "Epoch 6/20\n",
      "95/95 [==============================] - 140s 1s/step - loss: 0.0629 - accuracy: 0.9802 - val_loss: 0.0434 - val_accuracy: 0.9896\n",
      "Epoch 7/20\n",
      "95/95 [==============================] - 136s 1s/step - loss: 0.0529 - accuracy: 0.9858 - val_loss: 0.0408 - val_accuracy: 0.9870\n",
      "Epoch 8/20\n",
      "95/95 [==============================] - 144s 2s/step - loss: 0.0490 - accuracy: 0.9865 - val_loss: 0.0375 - val_accuracy: 0.9883\n",
      "Epoch 9/20\n",
      "95/95 [==============================] - 136s 1s/step - loss: 0.0445 - accuracy: 0.9878 - val_loss: 0.0336 - val_accuracy: 0.9909\n",
      "Epoch 10/20\n",
      "95/95 [==============================] - 133s 1s/step - loss: 0.0456 - accuracy: 0.9855 - val_loss: 0.0322 - val_accuracy: 0.9935\n",
      "Epoch 11/20\n",
      "95/95 [==============================] - 138s 1s/step - loss: 0.0360 - accuracy: 0.9895 - val_loss: 0.0328 - val_accuracy: 0.9922\n",
      "Epoch 12/20\n",
      "95/95 [==============================] - 140s 1s/step - loss: 0.0403 - accuracy: 0.9871 - val_loss: 0.0303 - val_accuracy: 0.9935\n",
      "Epoch 13/20\n",
      "95/95 [==============================] - 142s 1s/step - loss: 0.0376 - accuracy: 0.9871 - val_loss: 0.0315 - val_accuracy: 0.9909\n",
      "Epoch 14/20\n",
      "95/95 [==============================] - 140s 1s/step - loss: 0.0323 - accuracy: 0.9891 - val_loss: 0.0292 - val_accuracy: 0.9922\n",
      "Epoch 15/20\n",
      "95/95 [==============================] - 138s 1s/step - loss: 0.0355 - accuracy: 0.9901 - val_loss: 0.0286 - val_accuracy: 0.9922\n",
      "Epoch 16/20\n",
      "95/95 [==============================] - 138s 1s/step - loss: 0.0322 - accuracy: 0.9895 - val_loss: 0.0295 - val_accuracy: 0.9909\n",
      "Epoch 17/20\n",
      "95/95 [==============================] - 139s 1s/step - loss: 0.0338 - accuracy: 0.9878 - val_loss: 0.0286 - val_accuracy: 0.9909\n",
      "Epoch 18/20\n",
      "95/95 [==============================] - 140s 1s/step - loss: 0.0335 - accuracy: 0.9901 - val_loss: 0.0320 - val_accuracy: 0.9896\n",
      "Epoch 19/20\n",
      "95/95 [==============================] - 140s 1s/step - loss: 0.0291 - accuracy: 0.9908 - val_loss: 0.0298 - val_accuracy: 0.9922\n",
      "Epoch 20/20\n",
      "95/95 [==============================] - 138s 1s/step - loss: 0.0287 - accuracy: 0.9921 - val_loss: 0.0262 - val_accuracy: 0.9922\n"
     ]
    }
   ],
   "metadata": {}
  },
  {
   "cell_type": "markdown",
   "source": [
    "Realizando teste no modelo salvo"
   ],
   "metadata": {}
  },
  {
   "cell_type": "code",
   "execution_count": 13,
   "source": [
    "predIdxs = modelo.predict(testX, batch_size=32)"
   ],
   "outputs": [],
   "metadata": {}
  },
  {
   "cell_type": "markdown",
   "source": [
    "Para cada imagem no set de teste, precisamos do indice da label com mais probabilidade de predição"
   ],
   "metadata": {}
  },
  {
   "cell_type": "code",
   "execution_count": 14,
   "source": [
    "predIdxs = np.argmax(predIdxs, axis=1)"
   ],
   "outputs": [],
   "metadata": {}
  },
  {
   "cell_type": "markdown",
   "source": [
    "Report de classificação"
   ],
   "metadata": {}
  },
  {
   "cell_type": "code",
   "execution_count": 15,
   "source": [
    "print(metrics.classification_report(testY.argmax(axis=1), predIdxs, target_names=bin_labels.classes_))"
   ],
   "outputs": [
    {
     "output_type": "stream",
     "name": "stdout",
     "text": [
      "              precision    recall  f1-score   support\n",
      "\n",
      "        mask       0.99      0.99      0.99       383\n",
      "     no_mask       0.99      0.99      0.99       384\n",
      "\n",
      "    accuracy                           0.99       767\n",
      "   macro avg       0.99      0.99      0.99       767\n",
      "weighted avg       0.99      0.99      0.99       767\n",
      "\n"
     ]
    }
   ],
   "metadata": {}
  },
  {
   "cell_type": "markdown",
   "source": [
    "Salvando o modelo"
   ],
   "metadata": {}
  },
  {
   "cell_type": "code",
   "execution_count": 16,
   "source": [
    "modelo.save(\"modelo_reconhecimento_mascara.h5\")"
   ],
   "outputs": [
    {
     "output_type": "stream",
     "name": "stderr",
     "text": [
      "C:\\Users\\perei\\AppData\\Local\\Programs\\Python\\Python38\\lib\\site-packages\\tensorflow\\python\\keras\\utils\\generic_utils.py:494: CustomMaskWarning: Custom mask layers require a config and must override get_config. When loading, the custom mask layer must be passed to the custom_objects argument.\n",
      "  warnings.warn('Custom mask layers require a config and must override '\n"
     ]
    }
   ],
   "metadata": {}
  },
  {
   "cell_type": "markdown",
   "source": [
    "Gráfico de acurácia e perda do modelo"
   ],
   "metadata": {}
  },
  {
   "cell_type": "code",
   "execution_count": 18,
   "source": [
    "plt.style.use(\"ggplot\")\r\n",
    "plt.figure()\r\n",
    "plt.plot(np.arange(0,EPOCAS), head.history[\"loss\"], label=\"perda treino\")\r\n",
    "plt.plot(np.arange(0,EPOCAS), head.history[\"val_loss\"], label=\"perca validação\")\r\n",
    "plt.plot(np.arange(0,EPOCAS), head.history[\"accuracy\"], label=\"acurácia treino\")\r\n",
    "plt.plot(np.arange(0,EPOCAS), head.history[\"val_accuracy\"], label=\"acurácia validação\")\r\n",
    "plt.title(\"Perca e acurácia de treino\")\r\n",
    "plt.ylabel(\"perca/acurácia\")\r\n",
    "plt.legend(loc=\"lower left\")\r\n",
    "plt.xlabel(\"Época\")"
   ],
   "outputs": [
    {
     "output_type": "execute_result",
     "data": {
      "text/plain": [
       "Text(0.5, 0, 'Época')"
      ]
     },
     "metadata": {},
     "execution_count": 18
    },
    {
     "output_type": "display_data",
     "data": {
      "text/plain": [
       "<Figure size 432x288 with 1 Axes>"
      ],
      "image/svg+xml": "<?xml version=\"1.0\" encoding=\"utf-8\" standalone=\"no\"?>\r\n<!DOCTYPE svg PUBLIC \"-//W3C//DTD SVG 1.1//EN\"\r\n  \"http://www.w3.org/Graphics/SVG/1.1/DTD/svg11.dtd\">\r\n<svg height=\"283.057375pt\" version=\"1.1\" viewBox=\"0 0 388.196875 283.057375\" width=\"388.196875pt\" xmlns=\"http://www.w3.org/2000/svg\" xmlns:xlink=\"http://www.w3.org/1999/xlink\">\r\n <metadata>\r\n  <rdf:RDF xmlns:cc=\"http://creativecommons.org/ns#\" xmlns:dc=\"http://purl.org/dc/elements/1.1/\" xmlns:rdf=\"http://www.w3.org/1999/02/22-rdf-syntax-ns#\">\r\n   <cc:Work>\r\n    <dc:type rdf:resource=\"http://purl.org/dc/dcmitype/StillImage\"/>\r\n    <dc:date>2021-08-10T10:14:39.906539</dc:date>\r\n    <dc:format>image/svg+xml</dc:format>\r\n    <dc:creator>\r\n     <cc:Agent>\r\n      <dc:title>Matplotlib v3.4.2, https://matplotlib.org/</dc:title>\r\n     </cc:Agent>\r\n    </dc:creator>\r\n   </cc:Work>\r\n  </rdf:RDF>\r\n </metadata>\r\n <defs>\r\n  <style type=\"text/css\">*{stroke-linecap:butt;stroke-linejoin:round;}</style>\r\n </defs>\r\n <g id=\"figure_1\">\r\n  <g id=\"patch_1\">\r\n   <path d=\"M 0 283.057375 \r\nL 388.196875 283.057375 \r\nL 388.196875 0 \r\nL 0 0 \r\nz\r\n\" style=\"fill:#ffffff;\"/>\r\n  </g>\r\n  <g id=\"axes_1\">\r\n   <g id=\"patch_2\">\r\n    <path d=\"M 46.196875 241.58175 \r\nL 380.996875 241.58175 \r\nL 380.996875 24.14175 \r\nL 46.196875 24.14175 \r\nz\r\n\" style=\"fill:#e5e5e5;\"/>\r\n   </g>\r\n   <g id=\"matplotlib.axis_1\">\r\n    <g id=\"xtick_1\">\r\n     <g id=\"line2d_1\">\r\n      <path clip-path=\"url(#p4d2fd9c4e9)\" d=\"M 61.415057 241.58175 \r\nL 61.415057 24.14175 \r\n\" style=\"fill:none;stroke:#ffffff;stroke-linecap:square;stroke-width:0.8;\"/>\r\n     </g>\r\n     <g id=\"line2d_2\">\r\n      <defs>\r\n       <path d=\"M 0 0 \r\nL 0 3.5 \r\n\" id=\"m3f79858e87\" style=\"stroke:#555555;stroke-width:0.8;\"/>\r\n      </defs>\r\n      <g>\r\n       <use style=\"fill:#555555;stroke:#555555;stroke-width:0.8;\" x=\"61.415057\" xlink:href=\"#m3f79858e87\" y=\"241.58175\"/>\r\n      </g>\r\n     </g>\r\n     <g id=\"text_1\">\r\n      <!-- 0.0 -->\r\n      <g style=\"fill:#555555;\" transform=\"translate(53.463494 256.180188)scale(0.1 -0.1)\">\r\n       <defs>\r\n        <path d=\"M 2034 4250 \r\nQ 1547 4250 1301 3770 \r\nQ 1056 3291 1056 2328 \r\nQ 1056 1369 1301 889 \r\nQ 1547 409 2034 409 \r\nQ 2525 409 2770 889 \r\nQ 3016 1369 3016 2328 \r\nQ 3016 3291 2770 3770 \r\nQ 2525 4250 2034 4250 \r\nz\r\nM 2034 4750 \r\nQ 2819 4750 3233 4129 \r\nQ 3647 3509 3647 2328 \r\nQ 3647 1150 3233 529 \r\nQ 2819 -91 2034 -91 \r\nQ 1250 -91 836 529 \r\nQ 422 1150 422 2328 \r\nQ 422 3509 836 4129 \r\nQ 1250 4750 2034 4750 \r\nz\r\n\" id=\"DejaVuSans-30\" transform=\"scale(0.015625)\"/>\r\n        <path d=\"M 684 794 \r\nL 1344 794 \r\nL 1344 0 \r\nL 684 0 \r\nL 684 794 \r\nz\r\n\" id=\"DejaVuSans-2e\" transform=\"scale(0.015625)\"/>\r\n       </defs>\r\n       <use xlink:href=\"#DejaVuSans-30\"/>\r\n       <use x=\"63.623047\" xlink:href=\"#DejaVuSans-2e\"/>\r\n       <use x=\"95.410156\" xlink:href=\"#DejaVuSans-30\"/>\r\n      </g>\r\n     </g>\r\n    </g>\r\n    <g id=\"xtick_2\">\r\n     <g id=\"line2d_3\">\r\n      <path clip-path=\"url(#p4d2fd9c4e9)\" d=\"M 101.462904 241.58175 \r\nL 101.462904 24.14175 \r\n\" style=\"fill:none;stroke:#ffffff;stroke-linecap:square;stroke-width:0.8;\"/>\r\n     </g>\r\n     <g id=\"line2d_4\">\r\n      <g>\r\n       <use style=\"fill:#555555;stroke:#555555;stroke-width:0.8;\" x=\"101.462904\" xlink:href=\"#m3f79858e87\" y=\"241.58175\"/>\r\n      </g>\r\n     </g>\r\n     <g id=\"text_2\">\r\n      <!-- 2.5 -->\r\n      <g style=\"fill:#555555;\" transform=\"translate(93.511341 256.180188)scale(0.1 -0.1)\">\r\n       <defs>\r\n        <path d=\"M 1228 531 \r\nL 3431 531 \r\nL 3431 0 \r\nL 469 0 \r\nL 469 531 \r\nQ 828 903 1448 1529 \r\nQ 2069 2156 2228 2338 \r\nQ 2531 2678 2651 2914 \r\nQ 2772 3150 2772 3378 \r\nQ 2772 3750 2511 3984 \r\nQ 2250 4219 1831 4219 \r\nQ 1534 4219 1204 4116 \r\nQ 875 4013 500 3803 \r\nL 500 4441 \r\nQ 881 4594 1212 4672 \r\nQ 1544 4750 1819 4750 \r\nQ 2544 4750 2975 4387 \r\nQ 3406 4025 3406 3419 \r\nQ 3406 3131 3298 2873 \r\nQ 3191 2616 2906 2266 \r\nQ 2828 2175 2409 1742 \r\nQ 1991 1309 1228 531 \r\nz\r\n\" id=\"DejaVuSans-32\" transform=\"scale(0.015625)\"/>\r\n        <path d=\"M 691 4666 \r\nL 3169 4666 \r\nL 3169 4134 \r\nL 1269 4134 \r\nL 1269 2991 \r\nQ 1406 3038 1543 3061 \r\nQ 1681 3084 1819 3084 \r\nQ 2600 3084 3056 2656 \r\nQ 3513 2228 3513 1497 \r\nQ 3513 744 3044 326 \r\nQ 2575 -91 1722 -91 \r\nQ 1428 -91 1123 -41 \r\nQ 819 9 494 109 \r\nL 494 744 \r\nQ 775 591 1075 516 \r\nQ 1375 441 1709 441 \r\nQ 2250 441 2565 725 \r\nQ 2881 1009 2881 1497 \r\nQ 2881 1984 2565 2268 \r\nQ 2250 2553 1709 2553 \r\nQ 1456 2553 1204 2497 \r\nQ 953 2441 691 2322 \r\nL 691 4666 \r\nz\r\n\" id=\"DejaVuSans-35\" transform=\"scale(0.015625)\"/>\r\n       </defs>\r\n       <use xlink:href=\"#DejaVuSans-32\"/>\r\n       <use x=\"63.623047\" xlink:href=\"#DejaVuSans-2e\"/>\r\n       <use x=\"95.410156\" xlink:href=\"#DejaVuSans-35\"/>\r\n      </g>\r\n     </g>\r\n    </g>\r\n    <g id=\"xtick_3\">\r\n     <g id=\"line2d_5\">\r\n      <path clip-path=\"url(#p4d2fd9c4e9)\" d=\"M 141.510751 241.58175 \r\nL 141.510751 24.14175 \r\n\" style=\"fill:none;stroke:#ffffff;stroke-linecap:square;stroke-width:0.8;\"/>\r\n     </g>\r\n     <g id=\"line2d_6\">\r\n      <g>\r\n       <use style=\"fill:#555555;stroke:#555555;stroke-width:0.8;\" x=\"141.510751\" xlink:href=\"#m3f79858e87\" y=\"241.58175\"/>\r\n      </g>\r\n     </g>\r\n     <g id=\"text_3\">\r\n      <!-- 5.0 -->\r\n      <g style=\"fill:#555555;\" transform=\"translate(133.559188 256.180188)scale(0.1 -0.1)\">\r\n       <use xlink:href=\"#DejaVuSans-35\"/>\r\n       <use x=\"63.623047\" xlink:href=\"#DejaVuSans-2e\"/>\r\n       <use x=\"95.410156\" xlink:href=\"#DejaVuSans-30\"/>\r\n      </g>\r\n     </g>\r\n    </g>\r\n    <g id=\"xtick_4\">\r\n     <g id=\"line2d_7\">\r\n      <path clip-path=\"url(#p4d2fd9c4e9)\" d=\"M 181.558597 241.58175 \r\nL 181.558597 24.14175 \r\n\" style=\"fill:none;stroke:#ffffff;stroke-linecap:square;stroke-width:0.8;\"/>\r\n     </g>\r\n     <g id=\"line2d_8\">\r\n      <g>\r\n       <use style=\"fill:#555555;stroke:#555555;stroke-width:0.8;\" x=\"181.558597\" xlink:href=\"#m3f79858e87\" y=\"241.58175\"/>\r\n      </g>\r\n     </g>\r\n     <g id=\"text_4\">\r\n      <!-- 7.5 -->\r\n      <g style=\"fill:#555555;\" transform=\"translate(173.607035 256.180188)scale(0.1 -0.1)\">\r\n       <defs>\r\n        <path d=\"M 525 4666 \r\nL 3525 4666 \r\nL 3525 4397 \r\nL 1831 0 \r\nL 1172 0 \r\nL 2766 4134 \r\nL 525 4134 \r\nL 525 4666 \r\nz\r\n\" id=\"DejaVuSans-37\" transform=\"scale(0.015625)\"/>\r\n       </defs>\r\n       <use xlink:href=\"#DejaVuSans-37\"/>\r\n       <use x=\"63.623047\" xlink:href=\"#DejaVuSans-2e\"/>\r\n       <use x=\"95.410156\" xlink:href=\"#DejaVuSans-35\"/>\r\n      </g>\r\n     </g>\r\n    </g>\r\n    <g id=\"xtick_5\">\r\n     <g id=\"line2d_9\">\r\n      <path clip-path=\"url(#p4d2fd9c4e9)\" d=\"M 221.606444 241.58175 \r\nL 221.606444 24.14175 \r\n\" style=\"fill:none;stroke:#ffffff;stroke-linecap:square;stroke-width:0.8;\"/>\r\n     </g>\r\n     <g id=\"line2d_10\">\r\n      <g>\r\n       <use style=\"fill:#555555;stroke:#555555;stroke-width:0.8;\" x=\"221.606444\" xlink:href=\"#m3f79858e87\" y=\"241.58175\"/>\r\n      </g>\r\n     </g>\r\n     <g id=\"text_5\">\r\n      <!-- 10.0 -->\r\n      <g style=\"fill:#555555;\" transform=\"translate(210.473632 256.180188)scale(0.1 -0.1)\">\r\n       <defs>\r\n        <path d=\"M 794 531 \r\nL 1825 531 \r\nL 1825 4091 \r\nL 703 3866 \r\nL 703 4441 \r\nL 1819 4666 \r\nL 2450 4666 \r\nL 2450 531 \r\nL 3481 531 \r\nL 3481 0 \r\nL 794 0 \r\nL 794 531 \r\nz\r\n\" id=\"DejaVuSans-31\" transform=\"scale(0.015625)\"/>\r\n       </defs>\r\n       <use xlink:href=\"#DejaVuSans-31\"/>\r\n       <use x=\"63.623047\" xlink:href=\"#DejaVuSans-30\"/>\r\n       <use x=\"127.246094\" xlink:href=\"#DejaVuSans-2e\"/>\r\n       <use x=\"159.033203\" xlink:href=\"#DejaVuSans-30\"/>\r\n      </g>\r\n     </g>\r\n    </g>\r\n    <g id=\"xtick_6\">\r\n     <g id=\"line2d_11\">\r\n      <path clip-path=\"url(#p4d2fd9c4e9)\" d=\"M 261.654291 241.58175 \r\nL 261.654291 24.14175 \r\n\" style=\"fill:none;stroke:#ffffff;stroke-linecap:square;stroke-width:0.8;\"/>\r\n     </g>\r\n     <g id=\"line2d_12\">\r\n      <g>\r\n       <use style=\"fill:#555555;stroke:#555555;stroke-width:0.8;\" x=\"261.654291\" xlink:href=\"#m3f79858e87\" y=\"241.58175\"/>\r\n      </g>\r\n     </g>\r\n     <g id=\"text_6\">\r\n      <!-- 12.5 -->\r\n      <g style=\"fill:#555555;\" transform=\"translate(250.521479 256.180188)scale(0.1 -0.1)\">\r\n       <use xlink:href=\"#DejaVuSans-31\"/>\r\n       <use x=\"63.623047\" xlink:href=\"#DejaVuSans-32\"/>\r\n       <use x=\"127.246094\" xlink:href=\"#DejaVuSans-2e\"/>\r\n       <use x=\"159.033203\" xlink:href=\"#DejaVuSans-35\"/>\r\n      </g>\r\n     </g>\r\n    </g>\r\n    <g id=\"xtick_7\">\r\n     <g id=\"line2d_13\">\r\n      <path clip-path=\"url(#p4d2fd9c4e9)\" d=\"M 301.702138 241.58175 \r\nL 301.702138 24.14175 \r\n\" style=\"fill:none;stroke:#ffffff;stroke-linecap:square;stroke-width:0.8;\"/>\r\n     </g>\r\n     <g id=\"line2d_14\">\r\n      <g>\r\n       <use style=\"fill:#555555;stroke:#555555;stroke-width:0.8;\" x=\"301.702138\" xlink:href=\"#m3f79858e87\" y=\"241.58175\"/>\r\n      </g>\r\n     </g>\r\n     <g id=\"text_7\">\r\n      <!-- 15.0 -->\r\n      <g style=\"fill:#555555;\" transform=\"translate(290.569326 256.180188)scale(0.1 -0.1)\">\r\n       <use xlink:href=\"#DejaVuSans-31\"/>\r\n       <use x=\"63.623047\" xlink:href=\"#DejaVuSans-35\"/>\r\n       <use x=\"127.246094\" xlink:href=\"#DejaVuSans-2e\"/>\r\n       <use x=\"159.033203\" xlink:href=\"#DejaVuSans-30\"/>\r\n      </g>\r\n     </g>\r\n    </g>\r\n    <g id=\"xtick_8\">\r\n     <g id=\"line2d_15\">\r\n      <path clip-path=\"url(#p4d2fd9c4e9)\" d=\"M 341.749985 241.58175 \r\nL 341.749985 24.14175 \r\n\" style=\"fill:none;stroke:#ffffff;stroke-linecap:square;stroke-width:0.8;\"/>\r\n     </g>\r\n     <g id=\"line2d_16\">\r\n      <g>\r\n       <use style=\"fill:#555555;stroke:#555555;stroke-width:0.8;\" x=\"341.749985\" xlink:href=\"#m3f79858e87\" y=\"241.58175\"/>\r\n      </g>\r\n     </g>\r\n     <g id=\"text_8\">\r\n      <!-- 17.5 -->\r\n      <g style=\"fill:#555555;\" transform=\"translate(330.617173 256.180188)scale(0.1 -0.1)\">\r\n       <use xlink:href=\"#DejaVuSans-31\"/>\r\n       <use x=\"63.623047\" xlink:href=\"#DejaVuSans-37\"/>\r\n       <use x=\"127.246094\" xlink:href=\"#DejaVuSans-2e\"/>\r\n       <use x=\"159.033203\" xlink:href=\"#DejaVuSans-35\"/>\r\n      </g>\r\n     </g>\r\n    </g>\r\n    <g id=\"text_9\">\r\n     <!-- Época -->\r\n     <g style=\"fill:#555555;\" transform=\"translate(195.349375 273.36175)scale(0.12 -0.12)\">\r\n      <defs>\r\n       <path d=\"M 628 4666 \r\nL 3578 4666 \r\nL 3578 4134 \r\nL 1259 4134 \r\nL 1259 2753 \r\nL 3481 2753 \r\nL 3481 2222 \r\nL 1259 2222 \r\nL 1259 531 \r\nL 3634 531 \r\nL 3634 0 \r\nL 628 0 \r\nL 628 4666 \r\nz\r\nM 2268 5921 \r\nL 2846 5921 \r\nL 2134 5096 \r\nL 1655 5096 \r\nL 2268 5921 \r\nz\r\n\" id=\"DejaVuSans-c9\" transform=\"scale(0.015625)\"/>\r\n       <path d=\"M 1159 525 \r\nL 1159 -1331 \r\nL 581 -1331 \r\nL 581 3500 \r\nL 1159 3500 \r\nL 1159 2969 \r\nQ 1341 3281 1617 3432 \r\nQ 1894 3584 2278 3584 \r\nQ 2916 3584 3314 3078 \r\nQ 3713 2572 3713 1747 \r\nQ 3713 922 3314 415 \r\nQ 2916 -91 2278 -91 \r\nQ 1894 -91 1617 61 \r\nQ 1341 213 1159 525 \r\nz\r\nM 3116 1747 \r\nQ 3116 2381 2855 2742 \r\nQ 2594 3103 2138 3103 \r\nQ 1681 3103 1420 2742 \r\nQ 1159 2381 1159 1747 \r\nQ 1159 1113 1420 752 \r\nQ 1681 391 2138 391 \r\nQ 2594 391 2855 752 \r\nQ 3116 1113 3116 1747 \r\nz\r\n\" id=\"DejaVuSans-70\" transform=\"scale(0.015625)\"/>\r\n       <path d=\"M 1959 3097 \r\nQ 1497 3097 1228 2736 \r\nQ 959 2375 959 1747 \r\nQ 959 1119 1226 758 \r\nQ 1494 397 1959 397 \r\nQ 2419 397 2687 759 \r\nQ 2956 1122 2956 1747 \r\nQ 2956 2369 2687 2733 \r\nQ 2419 3097 1959 3097 \r\nz\r\nM 1959 3584 \r\nQ 2709 3584 3137 3096 \r\nQ 3566 2609 3566 1747 \r\nQ 3566 888 3137 398 \r\nQ 2709 -91 1959 -91 \r\nQ 1206 -91 779 398 \r\nQ 353 888 353 1747 \r\nQ 353 2609 779 3096 \r\nQ 1206 3584 1959 3584 \r\nz\r\n\" id=\"DejaVuSans-6f\" transform=\"scale(0.015625)\"/>\r\n       <path d=\"M 3122 3366 \r\nL 3122 2828 \r\nQ 2878 2963 2633 3030 \r\nQ 2388 3097 2138 3097 \r\nQ 1578 3097 1268 2742 \r\nQ 959 2388 959 1747 \r\nQ 959 1106 1268 751 \r\nQ 1578 397 2138 397 \r\nQ 2388 397 2633 464 \r\nQ 2878 531 3122 666 \r\nL 3122 134 \r\nQ 2881 22 2623 -34 \r\nQ 2366 -91 2075 -91 \r\nQ 1284 -91 818 406 \r\nQ 353 903 353 1747 \r\nQ 353 2603 823 3093 \r\nQ 1294 3584 2113 3584 \r\nQ 2378 3584 2631 3529 \r\nQ 2884 3475 3122 3366 \r\nz\r\n\" id=\"DejaVuSans-63\" transform=\"scale(0.015625)\"/>\r\n       <path d=\"M 2194 1759 \r\nQ 1497 1759 1228 1600 \r\nQ 959 1441 959 1056 \r\nQ 959 750 1161 570 \r\nQ 1363 391 1709 391 \r\nQ 2188 391 2477 730 \r\nQ 2766 1069 2766 1631 \r\nL 2766 1759 \r\nL 2194 1759 \r\nz\r\nM 3341 1997 \r\nL 3341 0 \r\nL 2766 0 \r\nL 2766 531 \r\nQ 2569 213 2275 61 \r\nQ 1981 -91 1556 -91 \r\nQ 1019 -91 701 211 \r\nQ 384 513 384 1019 \r\nQ 384 1609 779 1909 \r\nQ 1175 2209 1959 2209 \r\nL 2766 2209 \r\nL 2766 2266 \r\nQ 2766 2663 2505 2880 \r\nQ 2244 3097 1772 3097 \r\nQ 1472 3097 1187 3025 \r\nQ 903 2953 641 2809 \r\nL 641 3341 \r\nQ 956 3463 1253 3523 \r\nQ 1550 3584 1831 3584 \r\nQ 2591 3584 2966 3190 \r\nQ 3341 2797 3341 1997 \r\nz\r\n\" id=\"DejaVuSans-61\" transform=\"scale(0.015625)\"/>\r\n      </defs>\r\n      <use xlink:href=\"#DejaVuSans-c9\"/>\r\n      <use x=\"63.183594\" xlink:href=\"#DejaVuSans-70\"/>\r\n      <use x=\"126.660156\" xlink:href=\"#DejaVuSans-6f\"/>\r\n      <use x=\"187.841797\" xlink:href=\"#DejaVuSans-63\"/>\r\n      <use x=\"242.822266\" xlink:href=\"#DejaVuSans-61\"/>\r\n     </g>\r\n    </g>\r\n   </g>\r\n   <g id=\"matplotlib.axis_2\">\r\n    <g id=\"ytick_1\">\r\n     <g id=\"line2d_17\">\r\n      <path clip-path=\"url(#p4d2fd9c4e9)\" d=\"M 46.196875 237.046527 \r\nL 380.996875 237.046527 \r\n\" style=\"fill:none;stroke:#ffffff;stroke-linecap:square;stroke-width:0.8;\"/>\r\n     </g>\r\n     <g id=\"line2d_18\">\r\n      <defs>\r\n       <path d=\"M 0 0 \r\nL -3.5 0 \r\n\" id=\"m884dafa506\" style=\"stroke:#555555;stroke-width:0.8;\"/>\r\n      </defs>\r\n      <g>\r\n       <use style=\"fill:#555555;stroke:#555555;stroke-width:0.8;\" x=\"46.196875\" xlink:href=\"#m884dafa506\" y=\"237.046527\"/>\r\n      </g>\r\n     </g>\r\n     <g id=\"text_10\">\r\n      <!-- 0.0 -->\r\n      <g style=\"fill:#555555;\" transform=\"translate(23.29375 240.845746)scale(0.1 -0.1)\">\r\n       <use xlink:href=\"#DejaVuSans-30\"/>\r\n       <use x=\"63.623047\" xlink:href=\"#DejaVuSans-2e\"/>\r\n       <use x=\"95.410156\" xlink:href=\"#DejaVuSans-30\"/>\r\n      </g>\r\n     </g>\r\n    </g>\r\n    <g id=\"ytick_2\">\r\n     <g id=\"line2d_19\">\r\n      <path clip-path=\"url(#p4d2fd9c4e9)\" d=\"M 46.196875 196.175867 \r\nL 380.996875 196.175867 \r\n\" style=\"fill:none;stroke:#ffffff;stroke-linecap:square;stroke-width:0.8;\"/>\r\n     </g>\r\n     <g id=\"line2d_20\">\r\n      <g>\r\n       <use style=\"fill:#555555;stroke:#555555;stroke-width:0.8;\" x=\"46.196875\" xlink:href=\"#m884dafa506\" y=\"196.175867\"/>\r\n      </g>\r\n     </g>\r\n     <g id=\"text_11\">\r\n      <!-- 0.2 -->\r\n      <g style=\"fill:#555555;\" transform=\"translate(23.29375 199.975086)scale(0.1 -0.1)\">\r\n       <use xlink:href=\"#DejaVuSans-30\"/>\r\n       <use x=\"63.623047\" xlink:href=\"#DejaVuSans-2e\"/>\r\n       <use x=\"95.410156\" xlink:href=\"#DejaVuSans-32\"/>\r\n      </g>\r\n     </g>\r\n    </g>\r\n    <g id=\"ytick_3\">\r\n     <g id=\"line2d_21\">\r\n      <path clip-path=\"url(#p4d2fd9c4e9)\" d=\"M 46.196875 155.305207 \r\nL 380.996875 155.305207 \r\n\" style=\"fill:none;stroke:#ffffff;stroke-linecap:square;stroke-width:0.8;\"/>\r\n     </g>\r\n     <g id=\"line2d_22\">\r\n      <g>\r\n       <use style=\"fill:#555555;stroke:#555555;stroke-width:0.8;\" x=\"46.196875\" xlink:href=\"#m884dafa506\" y=\"155.305207\"/>\r\n      </g>\r\n     </g>\r\n     <g id=\"text_12\">\r\n      <!-- 0.4 -->\r\n      <g style=\"fill:#555555;\" transform=\"translate(23.29375 159.104426)scale(0.1 -0.1)\">\r\n       <defs>\r\n        <path d=\"M 2419 4116 \r\nL 825 1625 \r\nL 2419 1625 \r\nL 2419 4116 \r\nz\r\nM 2253 4666 \r\nL 3047 4666 \r\nL 3047 1625 \r\nL 3713 1625 \r\nL 3713 1100 \r\nL 3047 1100 \r\nL 3047 0 \r\nL 2419 0 \r\nL 2419 1100 \r\nL 313 1100 \r\nL 313 1709 \r\nL 2253 4666 \r\nz\r\n\" id=\"DejaVuSans-34\" transform=\"scale(0.015625)\"/>\r\n       </defs>\r\n       <use xlink:href=\"#DejaVuSans-30\"/>\r\n       <use x=\"63.623047\" xlink:href=\"#DejaVuSans-2e\"/>\r\n       <use x=\"95.410156\" xlink:href=\"#DejaVuSans-34\"/>\r\n      </g>\r\n     </g>\r\n    </g>\r\n    <g id=\"ytick_4\">\r\n     <g id=\"line2d_23\">\r\n      <path clip-path=\"url(#p4d2fd9c4e9)\" d=\"M 46.196875 114.434547 \r\nL 380.996875 114.434547 \r\n\" style=\"fill:none;stroke:#ffffff;stroke-linecap:square;stroke-width:0.8;\"/>\r\n     </g>\r\n     <g id=\"line2d_24\">\r\n      <g>\r\n       <use style=\"fill:#555555;stroke:#555555;stroke-width:0.8;\" x=\"46.196875\" xlink:href=\"#m884dafa506\" y=\"114.434547\"/>\r\n      </g>\r\n     </g>\r\n     <g id=\"text_13\">\r\n      <!-- 0.6 -->\r\n      <g style=\"fill:#555555;\" transform=\"translate(23.29375 118.233766)scale(0.1 -0.1)\">\r\n       <defs>\r\n        <path d=\"M 2113 2584 \r\nQ 1688 2584 1439 2293 \r\nQ 1191 2003 1191 1497 \r\nQ 1191 994 1439 701 \r\nQ 1688 409 2113 409 \r\nQ 2538 409 2786 701 \r\nQ 3034 994 3034 1497 \r\nQ 3034 2003 2786 2293 \r\nQ 2538 2584 2113 2584 \r\nz\r\nM 3366 4563 \r\nL 3366 3988 \r\nQ 3128 4100 2886 4159 \r\nQ 2644 4219 2406 4219 \r\nQ 1781 4219 1451 3797 \r\nQ 1122 3375 1075 2522 \r\nQ 1259 2794 1537 2939 \r\nQ 1816 3084 2150 3084 \r\nQ 2853 3084 3261 2657 \r\nQ 3669 2231 3669 1497 \r\nQ 3669 778 3244 343 \r\nQ 2819 -91 2113 -91 \r\nQ 1303 -91 875 529 \r\nQ 447 1150 447 2328 \r\nQ 447 3434 972 4092 \r\nQ 1497 4750 2381 4750 \r\nQ 2619 4750 2861 4703 \r\nQ 3103 4656 3366 4563 \r\nz\r\n\" id=\"DejaVuSans-36\" transform=\"scale(0.015625)\"/>\r\n       </defs>\r\n       <use xlink:href=\"#DejaVuSans-30\"/>\r\n       <use x=\"63.623047\" xlink:href=\"#DejaVuSans-2e\"/>\r\n       <use x=\"95.410156\" xlink:href=\"#DejaVuSans-36\"/>\r\n      </g>\r\n     </g>\r\n    </g>\r\n    <g id=\"ytick_5\">\r\n     <g id=\"line2d_25\">\r\n      <path clip-path=\"url(#p4d2fd9c4e9)\" d=\"M 46.196875 73.563887 \r\nL 380.996875 73.563887 \r\n\" style=\"fill:none;stroke:#ffffff;stroke-linecap:square;stroke-width:0.8;\"/>\r\n     </g>\r\n     <g id=\"line2d_26\">\r\n      <g>\r\n       <use style=\"fill:#555555;stroke:#555555;stroke-width:0.8;\" x=\"46.196875\" xlink:href=\"#m884dafa506\" y=\"73.563887\"/>\r\n      </g>\r\n     </g>\r\n     <g id=\"text_14\">\r\n      <!-- 0.8 -->\r\n      <g style=\"fill:#555555;\" transform=\"translate(23.29375 77.363106)scale(0.1 -0.1)\">\r\n       <defs>\r\n        <path d=\"M 2034 2216 \r\nQ 1584 2216 1326 1975 \r\nQ 1069 1734 1069 1313 \r\nQ 1069 891 1326 650 \r\nQ 1584 409 2034 409 \r\nQ 2484 409 2743 651 \r\nQ 3003 894 3003 1313 \r\nQ 3003 1734 2745 1975 \r\nQ 2488 2216 2034 2216 \r\nz\r\nM 1403 2484 \r\nQ 997 2584 770 2862 \r\nQ 544 3141 544 3541 \r\nQ 544 4100 942 4425 \r\nQ 1341 4750 2034 4750 \r\nQ 2731 4750 3128 4425 \r\nQ 3525 4100 3525 3541 \r\nQ 3525 3141 3298 2862 \r\nQ 3072 2584 2669 2484 \r\nQ 3125 2378 3379 2068 \r\nQ 3634 1759 3634 1313 \r\nQ 3634 634 3220 271 \r\nQ 2806 -91 2034 -91 \r\nQ 1263 -91 848 271 \r\nQ 434 634 434 1313 \r\nQ 434 1759 690 2068 \r\nQ 947 2378 1403 2484 \r\nz\r\nM 1172 3481 \r\nQ 1172 3119 1398 2916 \r\nQ 1625 2713 2034 2713 \r\nQ 2441 2713 2670 2916 \r\nQ 2900 3119 2900 3481 \r\nQ 2900 3844 2670 4047 \r\nQ 2441 4250 2034 4250 \r\nQ 1625 4250 1398 4047 \r\nQ 1172 3844 1172 3481 \r\nz\r\n\" id=\"DejaVuSans-38\" transform=\"scale(0.015625)\"/>\r\n       </defs>\r\n       <use xlink:href=\"#DejaVuSans-30\"/>\r\n       <use x=\"63.623047\" xlink:href=\"#DejaVuSans-2e\"/>\r\n       <use x=\"95.410156\" xlink:href=\"#DejaVuSans-38\"/>\r\n      </g>\r\n     </g>\r\n    </g>\r\n    <g id=\"ytick_6\">\r\n     <g id=\"line2d_27\">\r\n      <path clip-path=\"url(#p4d2fd9c4e9)\" d=\"M 46.196875 32.693228 \r\nL 380.996875 32.693228 \r\n\" style=\"fill:none;stroke:#ffffff;stroke-linecap:square;stroke-width:0.8;\"/>\r\n     </g>\r\n     <g id=\"line2d_28\">\r\n      <g>\r\n       <use style=\"fill:#555555;stroke:#555555;stroke-width:0.8;\" x=\"46.196875\" xlink:href=\"#m884dafa506\" y=\"32.693228\"/>\r\n      </g>\r\n     </g>\r\n     <g id=\"text_15\">\r\n      <!-- 1.0 -->\r\n      <g style=\"fill:#555555;\" transform=\"translate(23.29375 36.492446)scale(0.1 -0.1)\">\r\n       <use xlink:href=\"#DejaVuSans-31\"/>\r\n       <use x=\"63.623047\" xlink:href=\"#DejaVuSans-2e\"/>\r\n       <use x=\"95.410156\" xlink:href=\"#DejaVuSans-30\"/>\r\n      </g>\r\n     </g>\r\n    </g>\r\n    <g id=\"text_16\">\r\n     <!-- perca/acurácia -->\r\n     <g style=\"fill:#555555;\" transform=\"translate(16.798125 177.256125)rotate(-90)scale(0.12 -0.12)\">\r\n      <defs>\r\n       <path d=\"M 3597 1894 \r\nL 3597 1613 \r\nL 953 1613 \r\nQ 991 1019 1311 708 \r\nQ 1631 397 2203 397 \r\nQ 2534 397 2845 478 \r\nQ 3156 559 3463 722 \r\nL 3463 178 \r\nQ 3153 47 2828 -22 \r\nQ 2503 -91 2169 -91 \r\nQ 1331 -91 842 396 \r\nQ 353 884 353 1716 \r\nQ 353 2575 817 3079 \r\nQ 1281 3584 2069 3584 \r\nQ 2775 3584 3186 3129 \r\nQ 3597 2675 3597 1894 \r\nz\r\nM 3022 2063 \r\nQ 3016 2534 2758 2815 \r\nQ 2500 3097 2075 3097 \r\nQ 1594 3097 1305 2825 \r\nQ 1016 2553 972 2059 \r\nL 3022 2063 \r\nz\r\n\" id=\"DejaVuSans-65\" transform=\"scale(0.015625)\"/>\r\n       <path d=\"M 2631 2963 \r\nQ 2534 3019 2420 3045 \r\nQ 2306 3072 2169 3072 \r\nQ 1681 3072 1420 2755 \r\nQ 1159 2438 1159 1844 \r\nL 1159 0 \r\nL 581 0 \r\nL 581 3500 \r\nL 1159 3500 \r\nL 1159 2956 \r\nQ 1341 3275 1631 3429 \r\nQ 1922 3584 2338 3584 \r\nQ 2397 3584 2469 3576 \r\nQ 2541 3569 2628 3553 \r\nL 2631 2963 \r\nz\r\n\" id=\"DejaVuSans-72\" transform=\"scale(0.015625)\"/>\r\n       <path d=\"M 1625 4666 \r\nL 2156 4666 \r\nL 531 -594 \r\nL 0 -594 \r\nL 1625 4666 \r\nz\r\n\" id=\"DejaVuSans-2f\" transform=\"scale(0.015625)\"/>\r\n       <path d=\"M 544 1381 \r\nL 544 3500 \r\nL 1119 3500 \r\nL 1119 1403 \r\nQ 1119 906 1312 657 \r\nQ 1506 409 1894 409 \r\nQ 2359 409 2629 706 \r\nQ 2900 1003 2900 1516 \r\nL 2900 3500 \r\nL 3475 3500 \r\nL 3475 0 \r\nL 2900 0 \r\nL 2900 538 \r\nQ 2691 219 2414 64 \r\nQ 2138 -91 1772 -91 \r\nQ 1169 -91 856 284 \r\nQ 544 659 544 1381 \r\nz\r\nM 1991 3584 \r\nL 1991 3584 \r\nz\r\n\" id=\"DejaVuSans-75\" transform=\"scale(0.015625)\"/>\r\n       <path d=\"M 2194 1759 \r\nQ 1497 1759 1228 1600 \r\nQ 959 1441 959 1056 \r\nQ 959 750 1161 570 \r\nQ 1363 391 1709 391 \r\nQ 2188 391 2477 730 \r\nQ 2766 1069 2766 1631 \r\nL 2766 1759 \r\nL 2194 1759 \r\nz\r\nM 3341 1997 \r\nL 3341 0 \r\nL 2766 0 \r\nL 2766 531 \r\nQ 2569 213 2275 61 \r\nQ 1981 -91 1556 -91 \r\nQ 1019 -91 701 211 \r\nQ 384 513 384 1019 \r\nQ 384 1609 779 1909 \r\nQ 1175 2209 1959 2209 \r\nL 2766 2209 \r\nL 2766 2266 \r\nQ 2766 2663 2505 2880 \r\nQ 2244 3097 1772 3097 \r\nQ 1472 3097 1187 3025 \r\nQ 903 2953 641 2809 \r\nL 641 3341 \r\nQ 956 3463 1253 3523 \r\nQ 1550 3584 1831 3584 \r\nQ 2591 3584 2966 3190 \r\nQ 3341 2797 3341 1997 \r\nz\r\nM 2290 5119 \r\nL 2912 5119 \r\nL 1894 3944 \r\nL 1415 3944 \r\nL 2290 5119 \r\nz\r\n\" id=\"DejaVuSans-e1\" transform=\"scale(0.015625)\"/>\r\n       <path d=\"M 603 3500 \r\nL 1178 3500 \r\nL 1178 0 \r\nL 603 0 \r\nL 603 3500 \r\nz\r\nM 603 4863 \r\nL 1178 4863 \r\nL 1178 4134 \r\nL 603 4134 \r\nL 603 4863 \r\nz\r\n\" id=\"DejaVuSans-69\" transform=\"scale(0.015625)\"/>\r\n      </defs>\r\n      <use xlink:href=\"#DejaVuSans-70\"/>\r\n      <use x=\"63.476562\" xlink:href=\"#DejaVuSans-65\"/>\r\n      <use x=\"125\" xlink:href=\"#DejaVuSans-72\"/>\r\n      <use x=\"163.863281\" xlink:href=\"#DejaVuSans-63\"/>\r\n      <use x=\"218.84375\" xlink:href=\"#DejaVuSans-61\"/>\r\n      <use x=\"280.123047\" xlink:href=\"#DejaVuSans-2f\"/>\r\n      <use x=\"313.814453\" xlink:href=\"#DejaVuSans-61\"/>\r\n      <use x=\"375.09375\" xlink:href=\"#DejaVuSans-63\"/>\r\n      <use x=\"430.074219\" xlink:href=\"#DejaVuSans-75\"/>\r\n      <use x=\"493.453125\" xlink:href=\"#DejaVuSans-72\"/>\r\n      <use x=\"534.566406\" xlink:href=\"#DejaVuSans-e1\"/>\r\n      <use x=\"595.845703\" xlink:href=\"#DejaVuSans-63\"/>\r\n      <use x=\"650.826172\" xlink:href=\"#DejaVuSans-69\"/>\r\n      <use x=\"678.609375\" xlink:href=\"#DejaVuSans-61\"/>\r\n     </g>\r\n    </g>\r\n   </g>\r\n   <g id=\"line2d_29\">\r\n    <path clip-path=\"url(#p4d2fd9c4e9)\" d=\"M 61.415057 149.836478 \r\nL 77.434196 205.161142 \r\nL 93.453334 216.802021 \r\nL 109.472473 219.19722 \r\nL 125.491612 221.636296 \r\nL 141.510751 224.189628 \r\nL 157.529889 226.238271 \r\nL 173.549028 227.036097 \r\nL 189.568167 227.955031 \r\nL 205.587306 227.734538 \r\nL 221.606444 229.699242 \r\nL 237.625583 228.80875 \r\nL 253.644722 229.367951 \r\nL 269.663861 230.443929 \r\nL 285.682999 229.80102 \r\nL 301.702138 230.473997 \r\nL 317.721277 230.143543 \r\nL 333.740416 230.209273 \r\nL 349.759554 231.108708 \r\nL 365.778693 231.173485 \r\n\" style=\"fill:none;stroke:#e24a33;stroke-linecap:square;stroke-width:1.5;\"/>\r\n   </g>\r\n   <g id=\"line2d_30\">\r\n    <path clip-path=\"url(#p4d2fd9c4e9)\" d=\"M 61.415057 205.568659 \r\nL 77.434196 220.591962 \r\nL 93.453334 224.909599 \r\nL 109.472473 227.150872 \r\nL 125.491612 227.775618 \r\nL 141.510751 228.169179 \r\nL 157.529889 228.711561 \r\nL 173.549028 229.381797 \r\nL 189.568167 230.173107 \r\nL 205.587306 230.471217 \r\nL 221.606444 230.335615 \r\nL 237.625583 230.860817 \r\nL 253.644722 230.600057 \r\nL 269.663861 231.086405 \r\nL 285.682999 231.207718 \r\nL 301.702138 231.015951 \r\nL 317.721277 231.207794 \r\nL 333.740416 230.512776 \r\nL 349.759554 230.949384 \r\nL 365.778693 231.698114 \r\n\" style=\"fill:none;stroke:#348abd;stroke-linecap:square;stroke-width:1.5;\"/>\r\n   </g>\r\n   <g id=\"line2d_31\">\r\n    <path clip-path=\"url(#p4d2fd9c4e9)\" d=\"M 61.415057 65.898951 \r\nL 77.434196 40.641052 \r\nL 93.453334 37.00391 \r\nL 109.472473 37.408031 \r\nL 125.491612 37.138625 \r\nL 141.510751 36.734491 \r\nL 157.529889 35.589472 \r\nL 173.549028 35.454757 \r\nL 189.568167 35.185339 \r\nL 205.587306 35.656818 \r\nL 221.606444 34.848575 \r\nL 237.625583 35.320054 \r\nL 253.644722 35.320054 \r\nL 269.663861 34.91592 \r\nL 285.682999 34.713859 \r\nL 301.702138 34.848575 \r\nL 317.721277 35.185339 \r\nL 333.740416 34.713859 \r\nL 349.759554 34.579156 \r\nL 365.778693 34.309738 \r\n\" style=\"fill:none;stroke:#988ed5;stroke-linecap:square;stroke-width:1.5;\"/>\r\n   </g>\r\n   <g id=\"line2d_32\">\r\n    <path clip-path=\"url(#p4d2fd9c4e9)\" d=\"M 61.415057 35.890414 \r\nL 77.434196 35.357545 \r\nL 93.453334 34.824689 \r\nL 109.472473 34.291821 \r\nL 125.491612 34.824689 \r\nL 141.510751 34.824689 \r\nL 157.529889 35.357545 \r\nL 173.549028 35.091111 \r\nL 189.568167 34.558255 \r\nL 205.587306 34.025386 \r\nL 221.606444 34.291821 \r\nL 237.625583 34.025386 \r\nL 253.644722 34.558255 \r\nL 269.663861 34.291821 \r\nL 285.682999 34.291821 \r\nL 301.702138 34.558255 \r\nL 317.721277 34.558255 \r\nL 333.740416 34.824689 \r\nL 349.759554 34.291821 \r\nL 365.778693 34.291821 \r\n\" style=\"fill:none;stroke:#777777;stroke-linecap:square;stroke-width:1.5;\"/>\r\n   </g>\r\n   <g id=\"patch_3\">\r\n    <path d=\"M 46.196875 241.58175 \r\nL 46.196875 24.14175 \r\n\" style=\"fill:none;stroke:#ffffff;stroke-linecap:square;stroke-linejoin:miter;\"/>\r\n   </g>\r\n   <g id=\"patch_4\">\r\n    <path d=\"M 380.996875 241.58175 \r\nL 380.996875 24.14175 \r\n\" style=\"fill:none;stroke:#ffffff;stroke-linecap:square;stroke-linejoin:miter;\"/>\r\n   </g>\r\n   <g id=\"patch_5\">\r\n    <path d=\"M 46.196875 241.58175 \r\nL 380.996875 241.58175 \r\n\" style=\"fill:none;stroke:#ffffff;stroke-linecap:square;stroke-linejoin:miter;\"/>\r\n   </g>\r\n   <g id=\"patch_6\">\r\n    <path d=\"M 46.196875 24.14175 \r\nL 380.996875 24.14175 \r\n\" style=\"fill:none;stroke:#ffffff;stroke-linecap:square;stroke-linejoin:miter;\"/>\r\n   </g>\r\n   <g id=\"text_17\">\r\n    <!-- Perca e acurácia de treino -->\r\n    <g transform=\"translate(119.63575 18.14175)scale(0.144 -0.144)\">\r\n     <defs>\r\n      <path d=\"M 1259 4147 \r\nL 1259 2394 \r\nL 2053 2394 \r\nQ 2494 2394 2734 2622 \r\nQ 2975 2850 2975 3272 \r\nQ 2975 3691 2734 3919 \r\nQ 2494 4147 2053 4147 \r\nL 1259 4147 \r\nz\r\nM 628 4666 \r\nL 2053 4666 \r\nQ 2838 4666 3239 4311 \r\nQ 3641 3956 3641 3272 \r\nQ 3641 2581 3239 2228 \r\nQ 2838 1875 2053 1875 \r\nL 1259 1875 \r\nL 1259 0 \r\nL 628 0 \r\nL 628 4666 \r\nz\r\n\" id=\"DejaVuSans-50\" transform=\"scale(0.015625)\"/>\r\n      <path id=\"DejaVuSans-20\" transform=\"scale(0.015625)\"/>\r\n      <path d=\"M 2906 2969 \r\nL 2906 4863 \r\nL 3481 4863 \r\nL 3481 0 \r\nL 2906 0 \r\nL 2906 525 \r\nQ 2725 213 2448 61 \r\nQ 2172 -91 1784 -91 \r\nQ 1150 -91 751 415 \r\nQ 353 922 353 1747 \r\nQ 353 2572 751 3078 \r\nQ 1150 3584 1784 3584 \r\nQ 2172 3584 2448 3432 \r\nQ 2725 3281 2906 2969 \r\nz\r\nM 947 1747 \r\nQ 947 1113 1208 752 \r\nQ 1469 391 1925 391 \r\nQ 2381 391 2643 752 \r\nQ 2906 1113 2906 1747 \r\nQ 2906 2381 2643 2742 \r\nQ 2381 3103 1925 3103 \r\nQ 1469 3103 1208 2742 \r\nQ 947 2381 947 1747 \r\nz\r\n\" id=\"DejaVuSans-64\" transform=\"scale(0.015625)\"/>\r\n      <path d=\"M 1172 4494 \r\nL 1172 3500 \r\nL 2356 3500 \r\nL 2356 3053 \r\nL 1172 3053 \r\nL 1172 1153 \r\nQ 1172 725 1289 603 \r\nQ 1406 481 1766 481 \r\nL 2356 481 \r\nL 2356 0 \r\nL 1766 0 \r\nQ 1100 0 847 248 \r\nQ 594 497 594 1153 \r\nL 594 3053 \r\nL 172 3053 \r\nL 172 3500 \r\nL 594 3500 \r\nL 594 4494 \r\nL 1172 4494 \r\nz\r\n\" id=\"DejaVuSans-74\" transform=\"scale(0.015625)\"/>\r\n      <path d=\"M 3513 2113 \r\nL 3513 0 \r\nL 2938 0 \r\nL 2938 2094 \r\nQ 2938 2591 2744 2837 \r\nQ 2550 3084 2163 3084 \r\nQ 1697 3084 1428 2787 \r\nQ 1159 2491 1159 1978 \r\nL 1159 0 \r\nL 581 0 \r\nL 581 3500 \r\nL 1159 3500 \r\nL 1159 2956 \r\nQ 1366 3272 1645 3428 \r\nQ 1925 3584 2291 3584 \r\nQ 2894 3584 3203 3211 \r\nQ 3513 2838 3513 2113 \r\nz\r\n\" id=\"DejaVuSans-6e\" transform=\"scale(0.015625)\"/>\r\n     </defs>\r\n     <use xlink:href=\"#DejaVuSans-50\"/>\r\n     <use x=\"56.677734\" xlink:href=\"#DejaVuSans-65\"/>\r\n     <use x=\"118.201172\" xlink:href=\"#DejaVuSans-72\"/>\r\n     <use x=\"157.064453\" xlink:href=\"#DejaVuSans-63\"/>\r\n     <use x=\"212.044922\" xlink:href=\"#DejaVuSans-61\"/>\r\n     <use x=\"273.324219\" xlink:href=\"#DejaVuSans-20\"/>\r\n     <use x=\"305.111328\" xlink:href=\"#DejaVuSans-65\"/>\r\n     <use x=\"366.634766\" xlink:href=\"#DejaVuSans-20\"/>\r\n     <use x=\"398.421875\" xlink:href=\"#DejaVuSans-61\"/>\r\n     <use x=\"459.701172\" xlink:href=\"#DejaVuSans-63\"/>\r\n     <use x=\"514.681641\" xlink:href=\"#DejaVuSans-75\"/>\r\n     <use x=\"578.060547\" xlink:href=\"#DejaVuSans-72\"/>\r\n     <use x=\"619.173828\" xlink:href=\"#DejaVuSans-e1\"/>\r\n     <use x=\"680.453125\" xlink:href=\"#DejaVuSans-63\"/>\r\n     <use x=\"735.433594\" xlink:href=\"#DejaVuSans-69\"/>\r\n     <use x=\"763.216797\" xlink:href=\"#DejaVuSans-61\"/>\r\n     <use x=\"824.496094\" xlink:href=\"#DejaVuSans-20\"/>\r\n     <use x=\"856.283203\" xlink:href=\"#DejaVuSans-64\"/>\r\n     <use x=\"919.759766\" xlink:href=\"#DejaVuSans-65\"/>\r\n     <use x=\"981.283203\" xlink:href=\"#DejaVuSans-20\"/>\r\n     <use x=\"1013.070312\" xlink:href=\"#DejaVuSans-74\"/>\r\n     <use x=\"1052.279297\" xlink:href=\"#DejaVuSans-72\"/>\r\n     <use x=\"1091.142578\" xlink:href=\"#DejaVuSans-65\"/>\r\n     <use x=\"1152.666016\" xlink:href=\"#DejaVuSans-69\"/>\r\n     <use x=\"1180.449219\" xlink:href=\"#DejaVuSans-6e\"/>\r\n     <use x=\"1243.828125\" xlink:href=\"#DejaVuSans-6f\"/>\r\n    </g>\r\n   </g>\r\n   <g id=\"legend_1\">\r\n    <g id=\"patch_7\">\r\n     <path d=\"M 53.196875 236.58175 \r\nL 178.807813 236.58175 \r\nQ 180.807813 236.58175 180.807813 234.58175 \r\nL 180.807813 176.4505 \r\nQ 180.807813 174.4505 178.807813 174.4505 \r\nL 53.196875 174.4505 \r\nQ 51.196875 174.4505 51.196875 176.4505 \r\nL 51.196875 234.58175 \r\nQ 51.196875 236.58175 53.196875 236.58175 \r\nz\r\n\" style=\"fill:#e5e5e5;opacity:0.8;stroke:#cccccc;stroke-linejoin:miter;stroke-width:0.5;\"/>\r\n    </g>\r\n    <g id=\"line2d_33\">\r\n     <path d=\"M 55.196875 182.548938 \r\nL 75.196875 182.548938 \r\n\" style=\"fill:none;stroke:#e24a33;stroke-linecap:square;stroke-width:1.5;\"/>\r\n    </g>\r\n    <g id=\"line2d_34\"/>\r\n    <g id=\"text_18\">\r\n     <!-- perda treino -->\r\n     <g transform=\"translate(83.196875 186.048938)scale(0.1 -0.1)\">\r\n      <use xlink:href=\"#DejaVuSans-70\"/>\r\n      <use x=\"63.476562\" xlink:href=\"#DejaVuSans-65\"/>\r\n      <use x=\"125\" xlink:href=\"#DejaVuSans-72\"/>\r\n      <use x=\"164.363281\" xlink:href=\"#DejaVuSans-64\"/>\r\n      <use x=\"227.839844\" xlink:href=\"#DejaVuSans-61\"/>\r\n      <use x=\"289.119141\" xlink:href=\"#DejaVuSans-20\"/>\r\n      <use x=\"320.90625\" xlink:href=\"#DejaVuSans-74\"/>\r\n      <use x=\"360.115234\" xlink:href=\"#DejaVuSans-72\"/>\r\n      <use x=\"398.978516\" xlink:href=\"#DejaVuSans-65\"/>\r\n      <use x=\"460.501953\" xlink:href=\"#DejaVuSans-69\"/>\r\n      <use x=\"488.285156\" xlink:href=\"#DejaVuSans-6e\"/>\r\n      <use x=\"551.664062\" xlink:href=\"#DejaVuSans-6f\"/>\r\n     </g>\r\n    </g>\r\n    <g id=\"line2d_35\">\r\n     <path d=\"M 55.196875 197.397375 \r\nL 75.196875 197.397375 \r\n\" style=\"fill:none;stroke:#348abd;stroke-linecap:square;stroke-width:1.5;\"/>\r\n    </g>\r\n    <g id=\"line2d_36\"/>\r\n    <g id=\"text_19\">\r\n     <!-- perca validação -->\r\n     <g transform=\"translate(83.196875 200.897375)scale(0.1 -0.1)\">\r\n      <defs>\r\n       <path d=\"M 191 3500 \r\nL 800 3500 \r\nL 1894 563 \r\nL 2988 3500 \r\nL 3597 3500 \r\nL 2284 0 \r\nL 1503 0 \r\nL 191 3500 \r\nz\r\n\" id=\"DejaVuSans-76\" transform=\"scale(0.015625)\"/>\r\n       <path d=\"M 603 4863 \r\nL 1178 4863 \r\nL 1178 0 \r\nL 603 0 \r\nL 603 4863 \r\nz\r\n\" id=\"DejaVuSans-6c\" transform=\"scale(0.015625)\"/>\r\n       <path d=\"M 3122 3366 \r\nL 3122 2828 \r\nQ 2878 2963 2633 3030 \r\nQ 2388 3097 2138 3097 \r\nQ 1578 3097 1268 2742 \r\nQ 959 2388 959 1747 \r\nQ 959 1106 1268 751 \r\nQ 1578 397 2138 397 \r\nQ 2388 397 2633 464 \r\nQ 2878 531 3122 666 \r\nL 3122 134 \r\nQ 2881 22 2623 -34 \r\nQ 2366 -91 2075 -91 \r\nQ 1284 -91 818 406 \r\nQ 353 903 353 1747 \r\nQ 353 2603 823 3093 \r\nQ 1294 3584 2113 3584 \r\nQ 2378 3584 2631 3529 \r\nQ 2884 3475 3122 3366 \r\nz\r\nM 2311 0 \r\nQ 2482 -194 2566 -358 \r\nQ 2651 -522 2651 -672 \r\nQ 2651 -950 2463 -1092 \r\nQ 2276 -1234 1907 -1234 \r\nQ 1764 -1234 1628 -1215 \r\nQ 1492 -1197 1357 -1159 \r\nL 1357 -750 \r\nQ 1464 -803 1579 -826 \r\nQ 1695 -850 1842 -850 \r\nQ 2026 -850 2120 -775 \r\nQ 2214 -700 2214 -556 \r\nQ 2214 -463 2146 -327 \r\nQ 2079 -191 1939 0 \r\nL 2311 0 \r\nz\r\n\" id=\"DejaVuSans-e7\" transform=\"scale(0.015625)\"/>\r\n       <path d=\"M 2194 1759 \r\nQ 1497 1759 1228 1600 \r\nQ 959 1441 959 1056 \r\nQ 959 750 1161 570 \r\nQ 1363 391 1709 391 \r\nQ 2188 391 2477 730 \r\nQ 2766 1069 2766 1631 \r\nL 2766 1759 \r\nL 2194 1759 \r\nz\r\nM 3341 1997 \r\nL 3341 0 \r\nL 2766 0 \r\nL 2766 531 \r\nQ 2569 213 2275 61 \r\nQ 1981 -91 1556 -91 \r\nQ 1019 -91 701 211 \r\nQ 384 513 384 1019 \r\nQ 384 1609 779 1909 \r\nQ 1175 2209 1959 2209 \r\nL 2766 2209 \r\nL 2766 2266 \r\nQ 2766 2663 2505 2880 \r\nQ 2244 3097 1772 3097 \r\nQ 1472 3097 1187 3025 \r\nQ 903 2953 641 2809 \r\nL 641 3341 \r\nQ 956 3463 1253 3523 \r\nQ 1550 3584 1831 3584 \r\nQ 2591 3584 2966 3190 \r\nQ 3341 2797 3341 1997 \r\nz\r\nM 1844 4281 \r\nL 1665 4453 \r\nQ 1597 4516 1545 4545 \r\nQ 1494 4575 1453 4575 \r\nQ 1334 4575 1278 4461 \r\nQ 1222 4347 1215 4091 \r\nL 825 4091 \r\nQ 831 4513 990 4742 \r\nQ 1150 4972 1434 4972 \r\nQ 1553 4972 1653 4928 \r\nQ 1753 4884 1869 4781 \r\nL 2047 4609 \r\nQ 2115 4547 2167 4517 \r\nQ 2219 4488 2259 4488 \r\nQ 2378 4488 2434 4602 \r\nQ 2490 4716 2497 4972 \r\nL 2887 4972 \r\nQ 2881 4550 2721 4320 \r\nQ 2562 4091 2278 4091 \r\nQ 2159 4091 2059 4134 \r\nQ 1959 4178 1844 4281 \r\nz\r\n\" id=\"DejaVuSans-e3\" transform=\"scale(0.015625)\"/>\r\n      </defs>\r\n      <use xlink:href=\"#DejaVuSans-70\"/>\r\n      <use x=\"63.476562\" xlink:href=\"#DejaVuSans-65\"/>\r\n      <use x=\"125\" xlink:href=\"#DejaVuSans-72\"/>\r\n      <use x=\"163.863281\" xlink:href=\"#DejaVuSans-63\"/>\r\n      <use x=\"218.84375\" xlink:href=\"#DejaVuSans-61\"/>\r\n      <use x=\"280.123047\" xlink:href=\"#DejaVuSans-20\"/>\r\n      <use x=\"311.910156\" xlink:href=\"#DejaVuSans-76\"/>\r\n      <use x=\"371.089844\" xlink:href=\"#DejaVuSans-61\"/>\r\n      <use x=\"432.369141\" xlink:href=\"#DejaVuSans-6c\"/>\r\n      <use x=\"460.152344\" xlink:href=\"#DejaVuSans-69\"/>\r\n      <use x=\"487.935547\" xlink:href=\"#DejaVuSans-64\"/>\r\n      <use x=\"551.412109\" xlink:href=\"#DejaVuSans-61\"/>\r\n      <use x=\"612.691406\" xlink:href=\"#DejaVuSans-e7\"/>\r\n      <use x=\"667.671875\" xlink:href=\"#DejaVuSans-e3\"/>\r\n      <use x=\"728.951172\" xlink:href=\"#DejaVuSans-6f\"/>\r\n     </g>\r\n    </g>\r\n    <g id=\"line2d_37\">\r\n     <path d=\"M 55.196875 212.0755 \r\nL 75.196875 212.0755 \r\n\" style=\"fill:none;stroke:#988ed5;stroke-linecap:square;stroke-width:1.5;\"/>\r\n    </g>\r\n    <g id=\"line2d_38\"/>\r\n    <g id=\"text_20\">\r\n     <!-- acurácia treino -->\r\n     <g transform=\"translate(83.196875 215.5755)scale(0.1 -0.1)\">\r\n      <use xlink:href=\"#DejaVuSans-61\"/>\r\n      <use x=\"61.279297\" xlink:href=\"#DejaVuSans-63\"/>\r\n      <use x=\"116.259766\" xlink:href=\"#DejaVuSans-75\"/>\r\n      <use x=\"179.638672\" xlink:href=\"#DejaVuSans-72\"/>\r\n      <use x=\"220.751953\" xlink:href=\"#DejaVuSans-e1\"/>\r\n      <use x=\"282.03125\" xlink:href=\"#DejaVuSans-63\"/>\r\n      <use x=\"337.011719\" xlink:href=\"#DejaVuSans-69\"/>\r\n      <use x=\"364.794922\" xlink:href=\"#DejaVuSans-61\"/>\r\n      <use x=\"426.074219\" xlink:href=\"#DejaVuSans-20\"/>\r\n      <use x=\"457.861328\" xlink:href=\"#DejaVuSans-74\"/>\r\n      <use x=\"497.070312\" xlink:href=\"#DejaVuSans-72\"/>\r\n      <use x=\"535.933594\" xlink:href=\"#DejaVuSans-65\"/>\r\n      <use x=\"597.457031\" xlink:href=\"#DejaVuSans-69\"/>\r\n      <use x=\"625.240234\" xlink:href=\"#DejaVuSans-6e\"/>\r\n      <use x=\"688.619141\" xlink:href=\"#DejaVuSans-6f\"/>\r\n     </g>\r\n    </g>\r\n    <g id=\"line2d_39\">\r\n     <path d=\"M 55.196875 227.002063 \r\nL 75.196875 227.002063 \r\n\" style=\"fill:none;stroke:#777777;stroke-linecap:square;stroke-width:1.5;\"/>\r\n    </g>\r\n    <g id=\"line2d_40\"/>\r\n    <g id=\"text_21\">\r\n     <!-- acurácia validação -->\r\n     <g transform=\"translate(83.196875 230.502063)scale(0.1 -0.1)\">\r\n      <use xlink:href=\"#DejaVuSans-61\"/>\r\n      <use x=\"61.279297\" xlink:href=\"#DejaVuSans-63\"/>\r\n      <use x=\"116.259766\" xlink:href=\"#DejaVuSans-75\"/>\r\n      <use x=\"179.638672\" xlink:href=\"#DejaVuSans-72\"/>\r\n      <use x=\"220.751953\" xlink:href=\"#DejaVuSans-e1\"/>\r\n      <use x=\"282.03125\" xlink:href=\"#DejaVuSans-63\"/>\r\n      <use x=\"337.011719\" xlink:href=\"#DejaVuSans-69\"/>\r\n      <use x=\"364.794922\" xlink:href=\"#DejaVuSans-61\"/>\r\n      <use x=\"426.074219\" xlink:href=\"#DejaVuSans-20\"/>\r\n      <use x=\"457.861328\" xlink:href=\"#DejaVuSans-76\"/>\r\n      <use x=\"517.041016\" xlink:href=\"#DejaVuSans-61\"/>\r\n      <use x=\"578.320312\" xlink:href=\"#DejaVuSans-6c\"/>\r\n      <use x=\"606.103516\" xlink:href=\"#DejaVuSans-69\"/>\r\n      <use x=\"633.886719\" xlink:href=\"#DejaVuSans-64\"/>\r\n      <use x=\"697.363281\" xlink:href=\"#DejaVuSans-61\"/>\r\n      <use x=\"758.642578\" xlink:href=\"#DejaVuSans-e7\"/>\r\n      <use x=\"813.623047\" xlink:href=\"#DejaVuSans-e3\"/>\r\n      <use x=\"874.902344\" xlink:href=\"#DejaVuSans-6f\"/>\r\n     </g>\r\n    </g>\r\n   </g>\r\n  </g>\r\n </g>\r\n <defs>\r\n  <clipPath id=\"p4d2fd9c4e9\">\r\n   <rect height=\"217.44\" width=\"334.8\" x=\"46.196875\" y=\"24.14175\"/>\r\n  </clipPath>\r\n </defs>\r\n</svg>\r\n",
      "image/png": "[encoded data removed]"
     },
     "metadata": {}
    }
   ],
   "metadata": {}
  }
 ],
 "metadata": {
  "orig_nbformat": 4,
  "language_info": {
   "name": "python",
   "version": "3.8.9",
   "mimetype": "text/x-python",
   "codemirror_mode": {
    "name": "ipython",
    "version": 3
   },
   "pygments_lexer": "ipython3",
   "nbconvert_exporter": "python",
   "file_extension": ".py"
  },
  "kernelspec": {
   "name": "python3",
   "display_name": "Python 3.8.9 64-bit"
  },
  "interpreter": {
   "hash": "72b7f2dd0b0cea190b00b981a3dfce715d3566325ecfddaf5b7dfafd90053c30"
  }
 },
 "nbformat": 4,
 "nbformat_minor": 2
}